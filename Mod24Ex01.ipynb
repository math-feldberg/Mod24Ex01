{
 "cells": [
  {
   "cell_type": "markdown",
   "metadata": {},
   "source": [
    "1. Cite 5 diferenças entre o RandomForest e o AdaBoost:"
   ]
  },
  {
   "cell_type": "markdown",
   "metadata": {},
   "source": [
    "- tamanho da árvore: em RF não existe produndidade máxima pré-determianda para cada árvore (full-sized tree), enquanto no AdaBoost cada árvore tem 1 ramo e 2 folhas (stump);\n",
    "\n",
    "- precisão de classificação: como em RF o modelo utiliza todas as variáveis, possui classificações mais precisas. Já o Adaboost utiliza apenas uma variável e, portanto, não tem uma boa acurácia, por isso são chamados de aprendizes fracos (weak learners);\n",
    "\n",
    "- peso: em RF o resultado de cada árvore tem o mesmo peso. Em Adaboost é atribuído um peso diferente a cada árvore;\n",
    "\n",
    "- ordem de construção das árvores: em RF cada árvore é independente porém, em Adaboost os erros de cada árvore influenciam a próxima;\n",
    "\n",
    "- método: RF é baseado em bagging enquanto Adaboost é baseado em boosting;\n",
    "\n",
    "Fontes: \n",
    "\n",
    "https://www.geeksforgeeks.org/differences-between-random-forest-and-adaboost/\n",
    "\n",
    "http://theprofessionalspoint.blogspot.com/2019/03/difference-between-random-forest-and.html"
   ]
  },
  {
   "cell_type": "markdown",
   "metadata": {},
   "source": [
    "2. Acesse o link Scikit-learn–adaboost, leia a explicação (traduza se for preciso) e crie um jupyternotebook contendo o exemplo do AdaBoost:"
   ]
  },
  {
   "cell_type": "code",
   "execution_count": 3,
   "metadata": {},
   "outputs": [
    {
     "data": {
      "text/plain": [
       "0.9466666666666665"
      ]
     },
     "execution_count": 3,
     "metadata": {},
     "output_type": "execute_result"
    }
   ],
   "source": [
    "from sklearn.model_selection import cross_val_score\n",
    "from sklearn.datasets import load_iris\n",
    "from sklearn.ensemble import AdaBoostClassifier\n",
    "\n",
    "X, y = load_iris(return_X_y=True)\n",
    "clf = AdaBoostClassifier(n_estimators=100)\n",
    "scores = cross_val_score(clf, X, y, cv=5)\n",
    "scores.mean()"
   ]
  },
  {
   "cell_type": "markdown",
   "metadata": {},
   "source": [
    "3. Cite 5 Hyperparametros importantes no AdaBoost:"
   ]
  },
  {
   "cell_type": "markdown",
   "metadata": {},
   "source": [
    "- n_estimators;\n",
    "\n",
    "- learning_rate; \n",
    "\n",
    "- estimator;\n",
    "\n",
    "- algorithm;\n",
    "\n",
    "- base_estimator;"
   ]
  },
  {
   "cell_type": "markdown",
   "metadata": {},
   "source": [
    "4. (Opcional) Utilize o GridSearch para encontrar os melhores hyperparametros para o conjunto de dados do exemplo (load_iris):"
   ]
  },
  {
   "cell_type": "code",
   "execution_count": 10,
   "metadata": {},
   "outputs": [],
   "source": [
    "from sklearn.model_selection import train_test_split\n",
    "from sklearn.ensemble import GradientBoostingClassifier\n",
    "from sklearn.model_selection import GridSearchCV\n",
    "\n",
    "X, y = load_iris(return_X_y=True)\n",
    "X_train, X_test, y_train, y_test = train_test_split(X, y,\n",
    "                                                    test_size=0.3, \n",
    "                                                    random_state=12)\n"
   ]
  },
  {
   "cell_type": "code",
   "execution_count": 29,
   "metadata": {},
   "outputs": [],
   "source": [
    "\n",
    "gb = GradientBoostingClassifier()\n",
    "\n",
    "parametros = {\n",
    "    'n_estimators': [10, 50, 100, 150, 200],\n",
    "    'learning_rate': [0.0001, 0.001, 0.01, 0.1, 1.0]}\n",
    "\n",
    "grid = GridSearchCV(estimator=gb,\n",
    "                    param_grid=parametros,\n",
    "                    scoring='accuracy',\n",
    "                    verbose=False,\n",
    "                    n_jobs = -1,\n",
    "                    cv=2)\n",
    "\n",
    "grid.fit(X_train, y_train.ravel());"
   ]
  },
  {
   "cell_type": "code",
   "execution_count": 30,
   "metadata": {},
   "outputs": [
    {
     "data": {
      "text/plain": [
       "{'learning_rate': 0.001, 'n_estimators': 100}"
      ]
     },
     "execution_count": 30,
     "metadata": {},
     "output_type": "execute_result"
    }
   ],
   "source": [
    "grid.best_params_"
   ]
  },
  {
   "cell_type": "code",
   "execution_count": null,
   "metadata": {},
   "outputs": [],
   "source": []
  }
 ],
 "metadata": {
  "kernelspec": {
   "display_name": "Python 3 (ipykernel)",
   "language": "python",
   "name": "python3"
  },
  "language_info": {
   "codemirror_mode": {
    "name": "ipython",
    "version": 3
   },
   "file_extension": ".py",
   "mimetype": "text/x-python",
   "name": "python",
   "nbconvert_exporter": "python",
   "pygments_lexer": "ipython3",
   "version": "3.9.13"
  },
  "varInspector": {
   "cols": {
    "lenName": 16,
    "lenType": 16,
    "lenVar": 40
   },
   "kernels_config": {
    "python": {
     "delete_cmd_postfix": "",
     "delete_cmd_prefix": "del ",
     "library": "var_list.py",
     "varRefreshCmd": "print(var_dic_list())"
    },
    "r": {
     "delete_cmd_postfix": ") ",
     "delete_cmd_prefix": "rm(",
     "library": "var_list.r",
     "varRefreshCmd": "cat(var_dic_list()) "
    }
   },
   "types_to_exclude": [
    "module",
    "function",
    "builtin_function_or_method",
    "instance",
    "_Feature"
   ],
   "window_display": false
  }
 },
 "nbformat": 4,
 "nbformat_minor": 4
}
